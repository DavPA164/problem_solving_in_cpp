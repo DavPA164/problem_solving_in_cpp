{
 "cells": [
  {
   "cell_type": "markdown",
   "metadata": {
    "collapsed": true
   },
   "source": [
    "## Matrix theory\n",
    "\n",
    "Let $V$, $W$ be finite dimensional vector spaces. Let $T$ be a linear transformation from $V$ into $W$. \n",
    "\n",
    "$$ T:V \\rightarrow W$$\n",
    "\n",
    "Let $B_V=\\{v_1,v_2,\\ldots,v_n\\}$ be an ordered basis of $V$, so that dim $V$=$n$. And $B_W=\\{w_1,w_2,\\ldots,w_m\\}$ is an ordered basis of $W$, so that dim $W$=$m$. We are going to define the matrix of the linear transformation $T$. It is done as follows - \n",
    "\n",
    "A linear transformation is completely determined by its action on the basis vectors. If we know $Tv_1, Tv_2,\\ldots,Tv_n$ it is enough to completely determine $T$. \n",
    "\n",
    "Each of the vectors $Tv_1, Tv_2, \\ldots, Tv_n$ is determined by the $m$ scalars:\n",
    "\n",
    "$\\begin{align}\n",
    "Tv_1&=a_{11} w_1 + a_{21}w_2 + \\ldots + a_{m1}w_m\\\\\n",
    "Tv_2&=a_{12} w_1 + a_{22}w_2 + \\ldots + a_{m2}w_m\\\\\n",
    "\\vdots\\\\\n",
    "Tv_n&=a_{1n} w_1 + a_{2n}w_2 + \\ldots + a_{mn}w_m\\\\\n",
    "\\end{align}$\n",
    "\n",
    "That is,\n",
    "\n",
    "$$Tv_j = \\sum_{i=1}^{m}a_{ij}w_{i}$$\n",
    "\n",
    "On the right hand side, $i$ is the running index, $j$ is the free index that corresponds to $Tv_j$. The matrix of the vector $Tv_j$ relative to the basis $B_W$ is the column vector whose entries are the coordinates of $Tv_j$ with respect to $B_W$. \n",
    "\n",
    "$[Tv_j]_{B_W}=\\begin{bmatrix}\n",
    "a_{1j}\\\\\n",
    "a_{2j}\\\\\n",
    "\\vdots\\\\\n",
    "a_{mj}\n",
    "\\end{bmatrix}$\n",
    "\n",
    "The matrix of the linear transformation $T$, that sends $x \\in V$ having coordinates $x=(x_1,x_2,\\ldots,x_n)$ with respect to $B_V$ to $T(x)$ in $W$ with basis $B_W$ is defined as :\n",
    "\n",
    "$A = (a_{ij})=[T]_{B_V}^{B_W}=\n",
    "\\begin{bmatrix}\n",
    "a_{11} & a_{12} & \\ldots & a_{1n} \\\\\n",
    "a_{21} & a_{22} & \\ldots & a_{2n} \\\\\n",
    "\\vdots & \\vdots & & \\vdots\\\\\n",
    "a_{m1} & a_{m2} & \\ldots & a_{mn} \\\\\n",
    "\\end{bmatrix}\n",
    "$\n",
    "\n",
    "As an aid"
   ]
  },
  {
   "cell_type": "code",
   "execution_count": null,
   "metadata": {
    "collapsed": true
   },
   "outputs": [],
   "source": []
  }
 ],
 "metadata": {
  "anaconda-cloud": {},
  "kernelspec": {
   "display_name": "Python [conda root]",
   "language": "python",
   "name": "conda-root-py"
  },
  "language_info": {
   "codemirror_mode": {
    "name": "ipython",
    "version": 3
   },
   "file_extension": ".py",
   "mimetype": "text/x-python",
   "name": "python",
   "nbconvert_exporter": "python",
   "pygments_lexer": "ipython3",
   "version": "3.5.2"
  }
 },
 "nbformat": 4,
 "nbformat_minor": 2
}
